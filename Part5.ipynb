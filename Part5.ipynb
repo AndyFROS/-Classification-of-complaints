{
 "cells": [
  {
   "cell_type": "markdown",
   "id": "60ea4477",
   "metadata": {},
   "source": [
    "# Сессия 5"
   ]
  },
  {
   "cell_type": "markdown",
   "id": "f1903f6c",
   "metadata": {},
   "source": [
    "---"
   ]
  },
  {
   "cell_type": "markdown",
   "id": "43cee1c1",
   "metadata": {},
   "source": [
    "Импорт модулей"
   ]
  },
  {
   "cell_type": "code",
   "execution_count": 1,
   "id": "f8f4d083",
   "metadata": {},
   "outputs": [],
   "source": [
    "import nltk\n",
    "import string\n",
    "import pickle\n",
    "import random\n",
    "import pymorphy2\n",
    "import regex as re\n",
    "import pandas as pd\n",
    "from nltk.corpus import stopwords\n",
    "from nltk.tokenize import word_tokenize\n",
    "from sklearn.feature_extraction.text import TfidfVectorizer"
   ]
  },
  {
   "cell_type": "markdown",
   "id": "4ae7d5a5",
   "metadata": {},
   "source": [
    "Чтение данных"
   ]
  },
  {
   "cell_type": "code",
   "execution_count": 2,
   "id": "79c42524",
   "metadata": {},
   "outputs": [],
   "source": [
    "#Как всегда pandas read_csv\n",
    "df = pd.read_csv(\"nddata.csv\", encoding=\"utf-8-sig\")"
   ]
  },
  {
   "cell_type": "markdown",
   "id": "9cde1799",
   "metadata": {},
   "source": [
    "Для подачи данных в модель нужно провести векторизацию (на тех же данных что и при обучении)"
   ]
  },
  {
   "cell_type": "code",
   "execution_count": 3,
   "id": "0a4969b6",
   "metadata": {},
   "outputs": [
    {
     "data": {
      "text/plain": [
       "<5367x6545 sparse matrix of type '<class 'numpy.float64'>'\n",
       "\twith 46180 stored elements in Compressed Sparse Row format>"
      ]
     },
     "execution_count": 3,
     "metadata": {},
     "output_type": "execute_result"
    }
   ],
   "source": [
    "#обьявление векторизатора\n",
    "tfidf = TfidfVectorizer()\n",
    "#обучение векторизатора\n",
    "tfidf.fit_transform(df['clean_sentence'])"
   ]
  },
  {
   "cell_type": "markdown",
   "id": "e418bcad",
   "metadata": {},
   "source": [
    "Импорт модели из прошлой сессии"
   ]
  },
  {
   "cell_type": "code",
   "execution_count": 4,
   "id": "1aea8eaa",
   "metadata": {},
   "outputs": [],
   "source": [
    "#Для импорта модели буду использовать модуль pickle\n",
    "model = pickle.load(open(\"pickle.dat\", 'rb'))"
   ]
  },
  {
   "cell_type": "markdown",
   "id": "92a8e698",
   "metadata": {},
   "source": [
    "Обьявление констант"
   ]
  },
  {
   "cell_type": "code",
   "execution_count": 5,
   "id": "dcf06332",
   "metadata": {},
   "outputs": [],
   "source": [
    "#Обьявление MorphAnalyzer для использования метода лемматизации\n",
    "morph = pymorphy2.MorphAnalyzer()\n",
    "#Создание stop word списка\n",
    "stop_words = stopwords.words(\"russian\")"
   ]
  },
  {
   "cell_type": "markdown",
   "id": "9ced2be0",
   "metadata": {},
   "source": [
    "Далее помещу в функцию обработку текста для бота"
   ]
  },
  {
   "cell_type": "code",
   "execution_count": 6,
   "id": "510a2736",
   "metadata": {},
   "outputs": [],
   "source": [
    "#Функция для обработки nltk и векторизации tfidf\n",
    "def tokinize_sentence(sentense: str, remove_stop_word: bool = True):\n",
    "    #Первый шаг это токенизация (будет получен список слов)\n",
    "    tokens = word_tokenize(sentense, language=\"russian\")\n",
    "    #второй шаг это удаление пунктуации\n",
    "    tokens = [i for i in tokens if i not in string.punctuation]\n",
    "    #Затем удаление стоп слов (если это нам нужно, по дефолту стоит True)\n",
    "    if remove_stop_word:\n",
    "        tokens = [i for i in tokens if i not in stop_words]\n",
    "    #Теперь верну слова в начальнцю форму при помощи MorphAnalyzer\n",
    "    tokens = [morph.parse(i)[0].normal_form for i in tokens]\n",
    "    #Удалю все слова короче 4х символов (будет тяжело догадаться что означает \"при\" или \"й\")\n",
    "    tokens = [i for i in tokens if len(i) > 4]\n",
    "    #обьединю оставшиеся слова в одно предложения для подачи в векторайзер\n",
    "    column = ' '.join(tokens)\n",
    "    #поместил векторизированое предложение в переменную X\n",
    "    X = tfidf.transform([column])\n",
    "    #И наконец верну предсказанную категорию\n",
    "    return model.predict(X)[0]"
   ]
  },
  {
   "cell_type": "markdown",
   "id": "74a5fb89",
   "metadata": {},
   "source": [
    "Переменная для вохда в цикл и список с фразами"
   ]
  },
  {
   "cell_type": "code",
   "execution_count": 7,
   "id": "cd69dd61",
   "metadata": {},
   "outputs": [],
   "source": [
    "#Пусть будет пустая, это не так важно потому что она будет перезаписана\n",
    "inp = ''\n",
    "#Создам список с фразами для имитации общения с пользователем\n",
    "phrases = [\"Категория вашей жалобы - \", \"Полученая жалоба принадлежит к категории - \", \"Жалоба будет рассмотена под категорией - \", \"Категоря к которой принадлежит ваша жалоба - \", \"Категоря относящеяся к вашей жалобе - \"]"
   ]
  },
  {
   "cell_type": "markdown",
   "id": "b49aefeb",
   "metadata": {},
   "source": [
    "#### Реализация бота"
   ]
  },
  {
   "cell_type": "code",
   "execution_count": 8,
   "id": "093153be",
   "metadata": {},
   "outputs": [
    {
     "name": "stdout",
     "output_type": "stream",
     "text": [
      "\n",
      "Комманды:\n",
      "предсказание - выдает категорию жалобы по введеному предложению\n",
      "инфо - повторяет комманды\n",
      "выход - завершает работу бота\n",
      "\n",
      "Введите комманду - предсказание\n",
      "Введите предложение - Добрый, день,, ЧЧЧ у меня вопросы, по ПоВодУ - отопления?\n",
      "\n",
      "Ваша жалоба отправлена на рассмотрение:\n",
      "Категоря к которой принадлежит ваша жалоба - Центральное отопление\n",
      "\n",
      "Введите комманду - выход\n"
     ]
    }
   ],
   "source": [
    "#Выведу комманды для пользователя перед началом работы бота\n",
    "print(\"\\nКомманды:\\nпредсказание - выдает категорию жалобы по введеному предложению\\nинфо - повторяет комманды\\nвыход - завершает работу бота\\n\")\n",
    "#Цикл бота\n",
    "while inp != \"выход\":\n",
    "    inp = input(\"Введите комманду - \")\n",
    "    if inp == \"инфо\":\n",
    "        print(\"\\nКомманды:\\nпредсказание - выдает категорию жалобы по введеному предложению\\nинфо - повторяет комманды\\nвыход - завершает работу бота\\n\")\n",
    "    if inp == \"предсказание\":\n",
    "        text = input(\"Введите предложение - \")\n",
    "        #Удалю все специальные символы и цифры с помощью регулярных выражений, а strip удалит лишние пробелы в начале и в конце предложения\n",
    "        text = re.compile('[^а-яА-Я ]').sub('', text).strip()\n",
    "        #Использую функцию\n",
    "        inp2 = tokinize_sentence(text)\n",
    "        print(\"\\nВаша жалоба отправлена на рассмотрение:\\n\" + random.choice(phrases) + inp2 + \".\" + \"\\n\")"
   ]
  },
  {
   "cell_type": "markdown",
   "id": "f9615352",
   "metadata": {},
   "source": [
    "Добрый, день,, ЧЧЧ у меня вопросы, по ПоВодУ - отопления?"
   ]
  },
  {
   "cell_type": "markdown",
   "id": "7696f253",
   "metadata": {},
   "source": [
    "### Подготовка отчета"
   ]
  },
  {
   "cell_type": "code",
   "execution_count": null,
   "id": "15c83109",
   "metadata": {},
   "outputs": [],
   "source": []
  },
  {
   "cell_type": "code",
   "execution_count": null,
   "id": "070ca454",
   "metadata": {},
   "outputs": [],
   "source": []
  }
 ],
 "metadata": {
  "kernelspec": {
   "display_name": "Python 3",
   "language": "python",
   "name": "python3"
  },
  "language_info": {
   "codemirror_mode": {
    "name": "ipython",
    "version": 3
   },
   "file_extension": ".py",
   "mimetype": "text/x-python",
   "name": "python",
   "nbconvert_exporter": "python",
   "pygments_lexer": "ipython3",
   "version": "3.8.8"
  }
 },
 "nbformat": 4,
 "nbformat_minor": 5
}
